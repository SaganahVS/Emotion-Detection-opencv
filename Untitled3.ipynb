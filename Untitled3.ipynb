{
  "nbformat": 4,
  "nbformat_minor": 0,
  "metadata": {
    "colab": {
      "provenance": [],
      "authorship_tag": "ABX9TyOWrBtWCtONM6q8TnZwr9mV",
      "include_colab_link": true
    },
    "kernelspec": {
      "name": "python3",
      "display_name": "Python 3"
    },
    "language_info": {
      "name": "python"
    }
  },
  "cells": [
    {
      "cell_type": "markdown",
      "metadata": {
        "id": "view-in-github",
        "colab_type": "text"
      },
      "source": [
        "<a href=\"https://colab.research.google.com/github/SaganahVS/Emotion-Detection-opencv/blob/main/Untitled3.ipynb\" target=\"_parent\"><img src=\"https://colab.research.google.com/assets/colab-badge.svg\" alt=\"Open In Colab\"/></a>"
      ]
    },
    {
      "cell_type": "code",
      "source": [
        "!pip install textblob\n",
        "!python -m textblob.download_corpora"
      ],
      "metadata": {
        "colab": {
          "base_uri": "https://localhost:8080/"
        },
        "id": "SXP_d17Evcoi",
        "outputId": "ad409d1a-43d6-43ea-862f-379e86041978"
      },
      "execution_count": 1,
      "outputs": [
        {
          "output_type": "stream",
          "name": "stdout",
          "text": [
            "Requirement already satisfied: textblob in /usr/local/lib/python3.11/dist-packages (0.19.0)\n",
            "Requirement already satisfied: nltk>=3.9 in /usr/local/lib/python3.11/dist-packages (from textblob) (3.9.1)\n",
            "Requirement already satisfied: click in /usr/local/lib/python3.11/dist-packages (from nltk>=3.9->textblob) (8.1.8)\n",
            "Requirement already satisfied: joblib in /usr/local/lib/python3.11/dist-packages (from nltk>=3.9->textblob) (1.4.2)\n",
            "Requirement already satisfied: regex>=2021.8.3 in /usr/local/lib/python3.11/dist-packages (from nltk>=3.9->textblob) (2024.11.6)\n",
            "Requirement already satisfied: tqdm in /usr/local/lib/python3.11/dist-packages (from nltk>=3.9->textblob) (4.67.1)\n",
            "[nltk_data] Downloading package brown to /root/nltk_data...\n",
            "[nltk_data]   Unzipping corpora/brown.zip.\n",
            "[nltk_data] Downloading package punkt_tab to /root/nltk_data...\n",
            "[nltk_data]   Unzipping tokenizers/punkt_tab.zip.\n",
            "[nltk_data] Downloading package wordnet to /root/nltk_data...\n",
            "[nltk_data] Downloading package averaged_perceptron_tagger_eng to\n",
            "[nltk_data]     /root/nltk_data...\n",
            "[nltk_data]   Unzipping taggers/averaged_perceptron_tagger_eng.zip.\n",
            "[nltk_data] Downloading package conll2000 to /root/nltk_data...\n",
            "[nltk_data]   Unzipping corpora/conll2000.zip.\n",
            "[nltk_data] Downloading package movie_reviews to /root/nltk_data...\n",
            "[nltk_data]   Unzipping corpora/movie_reviews.zip.\n",
            "Finished.\n"
          ]
        }
      ]
    },
    {
      "cell_type": "code",
      "execution_count": 2,
      "metadata": {
        "colab": {
          "base_uri": "https://localhost:8080/"
        },
        "id": "RkD7XYBevZoe",
        "outputId": "b8e7bd54-2495-4d49-9b99-07fd83989ffa"
      },
      "outputs": [
        {
          "output_type": "stream",
          "name": "stdout",
          "text": [
            "'I absolutely love this movie! It was fantastic.' - Sentiment: Positive\n",
            "'The customer service was terrible and I'm very unhappy.' - Sentiment: Negative\n",
            "'The sky is blue today.' - Sentiment: Neutral\n",
            "'I'm feeling a bit down.' - Sentiment: Negative\n"
          ]
        }
      ],
      "source": [
        "from textblob import TextBlob\n",
        "\n",
        "def analyze_text_sentiment(text):\n",
        "  analysis = TextBlob(text)\n",
        "\n",
        "  # Determine sentiment based on polarity\n",
        "  if analysis.sentiment.polarity > 0:\n",
        "    return \"Positive\"\n",
        "  elif analysis.sentiment.polarity < 0:\n",
        "    return \"Negative\"\n",
        "  else:\n",
        "    return \"Neutral\"\n",
        "\n",
        "# Example usage:\n",
        "text1 = \"I absolutely love this movie! It was fantastic.\"\n",
        "text2 = \"The customer service was terrible and I'm very unhappy.\"\n",
        "text3 = \"The sky is blue today.\"\n",
        "text4 = \"I'm feeling a bit down.\"\n",
        "\n",
        "print(f\"'{text1}' - Sentiment: {analyze_text_sentiment(text1)}\")\n",
        "print(f\"'{text2}' - Sentiment: {analyze_text_sentiment(text2)}\")\n",
        "print(f\"'{text3}' - Sentiment: {analyze_text_sentiment(text3)}\")\n",
        "print(f\"'{text4}' - Sentiment: {analyze_text_sentiment(text4)}\")"
      ]
    }
  ]
}